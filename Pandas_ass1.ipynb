{
 "cells": [
  {
   "cell_type": "code",
   "execution_count": 3,
   "metadata": {},
   "outputs": [
    {
     "name": "stdout",
     "output_type": "stream",
     "text": [
      "0     4\n",
      "1     8\n",
      "2    15\n",
      "3    16\n",
      "4    23\n",
      "5    42\n",
      "dtype: int64\n"
     ]
    }
   ],
   "source": [
    "#ANS1\n",
    "import pandas as pd\n",
    "series = [4,8,15,16,23,42]\n",
    "new_series = pd.Series(series)\n",
    "print(new_series)\n"
   ]
  },
  {
   "cell_type": "code",
   "execution_count": 4,
   "metadata": {},
   "outputs": [
    {
     "name": "stdout",
     "output_type": "stream",
     "text": [
      "0      1\n",
      "1      2\n",
      "2      3\n",
      "3      4\n",
      "4      5\n",
      "5    Ved\n",
      "6    Ice\n",
      "7      6\n",
      "8      7\n",
      "9     12\n",
      "dtype: object\n"
     ]
    }
   ],
   "source": [
    "#ANS2\n",
    "series1 = [1,2,3,4,5,'Ved','Ice',6,7,12]\n",
    "new_series1 = pd.Series(series1)\n",
    "print(new_series1)"
   ]
  },
  {
   "cell_type": "code",
   "execution_count": 9,
   "metadata": {},
   "outputs": [
    {
     "name": "stdout",
     "output_type": "stream",
     "text": [
      "     Name  Age  Gender\n",
      "0   Alice   25  Female\n",
      "1     Age   30    Male\n",
      "2  Gender   27  Female\n"
     ]
    }
   ],
   "source": [
    "#ANS3\n",
    "dataframe = {\n",
    "    'Name':['Alice','Age','Gender'],\n",
    "    'Age':[25,30,27],\n",
    "    'Gender':['Female','Male','Female']\n",
    "}\n",
    "new_dataframe = pd.DataFrame(dataframe)\n",
    "print(new_dataframe)"
   ]
  },
  {
   "cell_type": "markdown",
   "metadata": {},
   "source": [
    "ANS 4. Dataframe is a collection of rows/columns/records in Pandas. It is similar to the concept of 'tables' in SQL for eg -       Name  Age           City\n",
    "0    Alice   25       New York\n",
    "1      Bob   30  San Francisco\n",
    "2  Charlie   22    Los Angeles\n",
    "3    David   35        Chicago\n",
    "While pandas.series is a one-dimensional labeled array that can hold data of any type. It is a fundamental data structure in the Pandas library for eg - \n",
    "data = [4, 8, 15, 16, 23, 42]\n",
    "my_series = pd.Series(data)\n"
   ]
  },
  {
   "cell_type": "code",
   "execution_count": null,
   "metadata": {},
   "outputs": [],
   "source": [
    "# ANS 5. Some common functions that are used in Pandas along with their functionalities are as follows - \n",
    ".read_csv() ----> Used to read CSV files\n",
    ".tail() ----> Gives out the last 5 records of a table\n",
    ".head() -----> Gives out the inital 5 records of a table\n",
    ".dtypes() -----> Gives the datatype of records in a table"
   ]
  },
  {
   "cell_type": "markdown",
   "metadata": {},
   "source": [
    "ANS 6. Only dataframe is mutable amongst the three."
   ]
  },
  {
   "cell_type": "code",
   "execution_count": 11,
   "metadata": {},
   "outputs": [
    {
     "name": "stdout",
     "output_type": "stream",
     "text": [
      "      Name  Age           City\n",
      "0    Alice   25       New York\n",
      "1      Bob   30  San Francisco\n",
      "2  Charlie   22    Los Angeles\n"
     ]
    }
   ],
   "source": [
    "names = pd.Series(['Alice', 'Bob', 'Charlie'])\n",
    "ages = pd.Series([25, 30, 22])\n",
    "cities = pd.Series(['New York', 'San Francisco', 'Los Angeles'])\n",
    "\n",
    "# Combine the Series into a DataFrame\n",
    "my_dataframe = pd.DataFrame({'Name': names, 'Age': ages, 'City': cities})\n",
    "print(my_dataframe)\n"
   ]
  }
 ],
 "metadata": {
  "kernelspec": {
   "display_name": "Python 3",
   "language": "python",
   "name": "python3"
  },
  "language_info": {
   "codemirror_mode": {
    "name": "ipython",
    "version": 3
   },
   "file_extension": ".py",
   "mimetype": "text/x-python",
   "name": "python",
   "nbconvert_exporter": "python",
   "pygments_lexer": "ipython3",
   "version": "3.12.0"
  }
 },
 "nbformat": 4,
 "nbformat_minor": 2
}
